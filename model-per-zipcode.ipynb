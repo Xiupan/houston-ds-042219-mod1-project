{
  "cells": [
    {
      "cell_type": "markdown",
      "source": [
        "# Build Regression Model based on data_per_zipcode\n",
        "\n",
        "As seen during our collinearity analysis it seems that zipcode might affect\n",
        "the property price.\n"
      ],
      "metadata": {}
    },
    {
      "cell_type": "markdown",
      "source": [
        "# Build Regression Model based on data_per_zipcode to predict property price\n",
        "\n",
        "As seen during our collinearity analysis it seems that zipcode might affect\n",
        "the property price.\n",
        "\n",
        "So the question is How does that work ?.\n",
        "\n",
        "Table of Contents\n",
        "1. [EDA dataset per zipcode](#EDA-dataset-per-zipcode)\n",
        "4. [Scale and normalise variables](#Scale-and-normalise-variables)\n",
        "5. [Building the model](#Building-the-model)\n",
        "6. [Conclusion](#Conclusion)\n"
      ],
      "metadata": {}
    },
    {
      "cell_type": "markdown",
      "source": [
        "# Prep-work\n"
      ],
      "metadata": {}
    },
    {
      "cell_type": "code",
      "source": [
        "# Import useful librairies and set auto reload\n",
        "import pandas as pd\n",
        "import numpy as np\n",
        "import housing_data as hd\n",
        "import seaborn as sns\n",
        "import matplotlib.pyplot as plt\n",
        "import pickle\n",
        "from statsmodels.formula.api import ols\n",
        "\n",
        "%load_ext autoreload\n",
        "%autoreload 2\n",
        "\n"
      ],
      "outputs": [],
      "execution_count": null,
      "metadata": {
        "collapsed": false,
        "outputHidden": false,
        "inputHidden": false
      }
    },
    {
      "cell_type": "markdown",
      "source": [
        "##EDA dataset per zipcode\n"
      ],
      "metadata": {}
    },
    {
      "cell_type": "code",
      "source": [
        "# Load dataset\n",
        "data = hd.load_housing_data(with_cat_columns=False)\n",
        "data.head()\n"
      ],
      "outputs": [],
      "execution_count": null,
      "metadata": {
        "collapsed": false,
        "outputHidden": false,
        "inputHidden": false
      }
    },
    {
      "cell_type": "code",
      "source": [
        "# Plot property count per zipcode\n",
        "g = sns.factorplot(\"zipcode\", data=data, aspect=1.5, kind=\"count\", color=\"b\")\n",
        "g.set_xticklabels(rotation=30)\n"
      ],
      "outputs": [],
      "execution_count": null,
      "metadata": {
        "collapsed": false,
        "outputHidden": false,
        "inputHidden": false
      }
    },
    {
      "cell_type": "markdown",
      "source": [
        "It looks like we got enough data per zipcode.\n"
      ],
      "metadata": {}
    },
    {
      "cell_type": "markdown",
      "source": [
        "**Display price against sqft_living**\n"
      ],
      "metadata": {}
    },
    {
      "cell_type": "code",
      "source": [
        "# Split dataset in two group of zipcode for display purpose.\n",
        "zipcodes = data['zipcode'].unique()\n",
        "zipcodes.sort()\n",
        "zipcodes_median = zipcodes[(len(zipcodes) // 2): (len(zipcodes) // 2) + 1][0]\n",
        "\n",
        "data_set1 = data.loc[data['zipcode'] <= zipcodes_median]\n",
        "data_set2 = data.loc[data['zipcode'] > zipcodes_median]\n"
      ],
      "outputs": [],
      "execution_count": null,
      "metadata": {
        "collapsed": false,
        "outputHidden": false,
        "inputHidden": false
      }
    },
    {
      "cell_type": "code",
      "source": [
        "# Display price vs sqft_living on the first subset\n",
        "plt.figure(figsize=(10,10))\n",
        "g = sns.FacetGrid(data_set2, col=\"zipcode\", col_wrap=3)\n",
        "g.map(plt.scatter, \"sqft_living\", \"price\")\n",
        "g.set(xlim=(0, 6000), ylim=(0, 3000000))\n",
        "g.set_xlabels('')\n",
        "g.set_ylabels('Property price')\n"
      ],
      "outputs": [],
      "execution_count": null,
      "metadata": {
        "collapsed": false,
        "outputHidden": false,
        "inputHidden": false
      }
    },
    {
      "cell_type": "markdown",
      "source": [
        "**Conclusion** : The plots seem to be linear. Let's validate this hypothesis\n",
        "by building a model on a specific zipcode.\n"
      ],
      "metadata": {}
    },
    {
      "cell_type": "markdown",
      "source": [
        "## Scale and normalise variables\n"
      ],
      "metadata": {}
    },
    {
      "cell_type": "code",
      "source": [
        "# Scale Variables data\n",
        "log_sqft_living = np.log(data['sqft_living'])\n",
        "scaled_sqft_living = (log_sqft_living-min(log_sqft_living))/(max(log_sqft_living)-min(log_sqft_living))\n",
        "\n",
        "data_fin = pd.DataFrame([])\n",
        "data_fin['sqft_living'] = scaled_sqft_living\n",
        "\n",
        "scaled_data = data.drop(['sqft_living'], axis=1)\n",
        "scaled_data = pd.concat([scaled_data, data_fin], axis=1)\n"
      ],
      "outputs": [],
      "execution_count": null,
      "metadata": {
        "collapsed": false,
        "outputHidden": false,
        "inputHidden": false
      }
    },
    {
      "cell_type": "markdown",
      "source": [
        "# Building the model\n",
        "We are now going to try to run a simple Regression against our dataset\n"
      ],
      "metadata": {}
    },
    {
      "cell_type": "code",
      "source": [
        "# Get sample data from specific zipcode\n",
        "zipcode = 98072\n",
        "data_per_zipcode = scaled_data.loc[scaled_data['zipcode'] == zipcode]\n"
      ],
      "outputs": [],
      "execution_count": null,
      "metadata": {
        "collapsed": false,
        "outputHidden": false,
        "inputHidden": false
      }
    },
    {
      "cell_type": "code",
      "source": [
        "# Build formula\n",
        "# Notes that we are especting a corrolation between sqft_living and price_sqft\n",
        "formula = 'price ~ sqft_living'\n"
      ],
      "outputs": [],
      "execution_count": null,
      "metadata": {
        "collapsed": false,
        "outputHidden": false,
        "inputHidden": false
      }
    },
    {
      "cell_type": "code",
      "source": [
        "# Run simple prediction\n",
        "model = ols(formula=formula, data=data_per_zipcode).fit()\n",
        "model.summary()\n",
        "\n"
      ],
      "outputs": [],
      "execution_count": null,
      "metadata": {
        "collapsed": false,
        "outputHidden": false,
        "inputHidden": false
      }
    },
    {
      "cell_type": "markdown",
      "source": [
        "**Observations** : The Adj. R-squared is pretty low and our variables coef\n",
        "p-values are low. This doesn't look good.\n"
      ],
      "metadata": {}
    },
    {
      "cell_type": "markdown",
      "source": [
        "# Conclusion\n",
        "We saw that the model built based on zipcode proximity is not really accurate\n",
        "We need to come up with a more precise model."
      ],
      "metadata": {}
    }
  ],
  "metadata": {
    "kernelspec": {
      "argv": [
        "/Users/francoisleralle/dev/anaconda/anaconda3/bin/python",
        "-m",
        "ipykernel_launcher",
        "-f",
        "{connection_file}"
      ],
      "display_name": "learn-env",
      "language": "python",
      "name": "learn-env"
    }
  },
  "nbformat": 4,
  "nbformat_minor": 0
}