{
  "cells": [
    {
      "cell_type": "markdown",
      "source": [
        "# Build Regression Model based on data_per_zipcode\n",
        "\n",
        "As seen during our collinearity analysis it seems that zipcode might affect\n",
        "the property price.\n"
      ],
      "metadata": {}
    },
    {
      "cell_type": "code",
      "source": [
        "# Set auto reload\n",
        "import pandas as pd\n",
        "import numpy as np\n",
        "import housing_data as hd\n",
        "import seaborn as sns\n",
        "import matplotlib.pyplot as plt\n",
        "import pickle\n",
        "from statsmodels.formula.api import ols\n",
        "\n",
        "%load_ext autoreload\n",
        "%autoreload 2\n"
      ],
      "outputs": [],
      "execution_count": null,
      "metadata": {
        "collapsed": false,
        "outputHidden": false,
        "inputHidden": false
      }
    },
    {
      "cell_type": "code",
      "source": [
        "# Load dataset\n",
        "data = hd.load_housing_data(with_cat_columns=False)\n",
        "data.head()\n",
        "\n",
        "\n",
        "# [markdown]\n",
        "# **Evaluate dataset size per zipcode**\n"
      ],
      "outputs": [],
      "execution_count": null,
      "metadata": {
        "collapsed": false,
        "outputHidden": false,
        "inputHidden": false
      }
    },
    {
      "cell_type": "code",
      "source": [
        "# grouped_data = data.groupby('zipcode')\n",
        "# grouped_data.count()\n",
        "# for name, group in data.groupby('zipcode'):\n",
        "#     # print(name, ' contains ', len(group))\n",
        "#     # print(type(group))\n",
        "#     # plt.scatter(group['sqft_living'], group['price']);\n",
        "#     # sns.scatterplot(x='sqft_living', y='price', hue='grade', data=group)\n",
        "#     g = sns.FacetGrid(group, col=\"grade\")\n",
        "#     g.map(plt.scatter, \"price\", \"sqft_living\")\n",
        "#     g.add_legend()\n",
        "#     # plt.show()\n"
      ],
      "outputs": [],
      "execution_count": null,
      "metadata": {
        "collapsed": false,
        "outputHidden": false,
        "inputHidden": false
      }
    },
    {
      "cell_type": "code",
      "source": [
        "g = sns.factorplot(\"zipcode\", data=data, aspect=1.5, kind=\"count\", color=\"b\")\n",
        "g.set_xticklabels(rotation=30)\n",
        "\n"
      ],
      "outputs": [],
      "execution_count": null,
      "metadata": {
        "collapsed": false,
        "outputHidden": false,
        "inputHidden": false
      }
    },
    {
      "cell_type": "code",
      "source": [
        "# Split dataset in two group of zipcode for display purpose.\n",
        "zipcodes = data['zipcode'].unique()\n",
        "zipcodes.sort()\n",
        "zipcodes_median = zipcodes[(len(zipcodes) // 2): (len(zipcodes) // 2) + 1][0]\n",
        "\n",
        "print(zipcodes_median)\n",
        "\n",
        "data_set1 = data.loc[data['zipcode'] <= zipcodes_median]\n",
        "data_set2 = data.loc[data['zipcode'] > zipcodes_median]\n"
      ],
      "outputs": [],
      "execution_count": null,
      "metadata": {
        "collapsed": false,
        "outputHidden": false,
        "inputHidden": false
      }
    },
    {
      "cell_type": "code",
      "source": [
        "plt.figure(figsize=(10,10))\n",
        "g = sns.FacetGrid(data_set2, col=\"zipcode\", hue='condition', col_wrap=3)\n",
        "g.map(plt.scatter, \"sqft_living\", \"price\")\n",
        "g.set(xlim=(0, 6000), ylim=(0, 3000000))\n",
        "g.set_xlabels('')\n",
        "g.set_ylabels('Property price')\n",
        "# g.add_legend();\n",
        "\n"
      ],
      "outputs": [],
      "execution_count": null,
      "metadata": {
        "collapsed": false,
        "outputHidden": false,
        "inputHidden": false
      }
    },
    {
      "cell_type": "code",
      "source": [
        "\n",
        "sns.set(style=\"ticks\", palette=\"pastel\")\n",
        "\n",
        "# Load the example tips dataset\n",
        "# tips = sns.load_dataset(\"tips\")\n",
        "\n",
        "# Draw a nested boxplot to show bills by day and time\n",
        "sns.boxplot(x=\"zipcode\", y=\"price\", palette=[\"m\", \"g\"], data=data_set2)\n",
        "plt.ylim(0, 4000000)\n",
        "sns.despine(offset=10, trim=True)\n",
        "\n",
        "# for name, group in data.groupby('zipcode'):\n",
        "#     g = sns.boxplot(x=\"zipcode\", y=\"price\", palette=[\"m\", \"g\"], data=group)\n",
        "#     sns.despine(offset=10, trim=True)\n"
      ],
      "outputs": [],
      "execution_count": null,
      "metadata": {
        "collapsed": false,
        "outputHidden": false,
        "inputHidden": false
      }
    },
    {
      "cell_type": "code",
      "source": [
        "toto = input('Enter zipcode')\n",
        "print(toto)\n"
      ],
      "outputs": [],
      "execution_count": null,
      "metadata": {
        "collapsed": false,
        "outputHidden": false,
        "inputHidden": false
      }
    },
    {
      "cell_type": "code",
      "source": [
        "print(data.columns)\n"
      ],
      "outputs": [],
      "execution_count": null,
      "metadata": {
        "collapsed": false,
        "outputHidden": false,
        "inputHidden": false
      }
    },
    {
      "cell_type": "code",
      "source": [
        "# from statsmodels.formula.api import ols\n",
        "# cleaned_data = data.drop(columns=['id', 'date', 'bedrooms', 'bathrooms',\n",
        "#                                   'floors', 'waterfront', 'view',\n",
        "#                                   'sqft_basement', 'yr_built', 'yr_renovated',\n",
        "#                                   'lat', 'long'])\n",
        "cleaned_data = data[['zipcode', 'price', 'sqft_living',\n",
        "                     'condition', 'grade', 'floors',\n",
        "                     'yr_built', 'yr_renovated']]\n",
        "cleaned_data.head()\n"
      ],
      "outputs": [],
      "execution_count": null,
      "metadata": {
        "collapsed": false,
        "outputHidden": false,
        "inputHidden": false
      }
    },
    {
      "cell_type": "code",
      "source": [
        "# Format categorical variables\n",
        "cat_columns = ['condition', 'grade']\n",
        "cleaned_data = hd.convert_categorical_variables(cleaned_data, cat_columns, True)\n",
        "cleaned_data = hd.convert_categorical_variables(cleaned_data, ['floors'], False)\n",
        "cleaned_data.head()\n"
      ],
      "outputs": [],
      "execution_count": null,
      "metadata": {
        "collapsed": false,
        "outputHidden": false,
        "inputHidden": false
      }
    },
    {
      "cell_type": "code",
      "source": [
        "cleaned_data.describe()\n"
      ],
      "outputs": [],
      "execution_count": null,
      "metadata": {
        "collapsed": false,
        "outputHidden": false,
        "inputHidden": false
      }
    },
    {
      "cell_type": "code",
      "source": [
        "# Scale Variables data\n",
        "log_sqft_living = np.log(cleaned_data['sqft_living'])\n",
        "sqft_living = cleaned_data['sqft_living']\n",
        "# log_price = np.log(cleaned_data['price'])\n",
        "\n",
        "\n",
        "# scaled_sqft_living = (log_sqft_living-np.mean(log_sqft_living))/np.sqrt(np.var(log_sqft_living))\n",
        "# scaled_sqft_living = (log_sqft_living-min(log_sqft_living))/(max(log_sqft_living)-min(log_sqft_living))\n",
        "scaled_sqft_living = (sqft_living-min(sqft_living))/(max(sqft_living)-min(sqft_living))\n",
        "# scaled_price = (log_price-min(log_price))/(max(log_price)-min(log_price))\n",
        "# Scale prices to K$\n",
        "scaled_price = cleaned_data['price'].apply(lambda x: x/1000)\n",
        "scaled_price = cleaned_data['price']\n",
        "\n",
        "yr_renovated = cleaned_data['yr_renovated'].apply(lambda x: int(x.year))\n",
        "log_yr_renovated = np.log(yr_renovated)\n",
        "yr_built = cleaned_data['yr_built'].apply(lambda x: int(x.year))\n",
        "\n",
        "scaled_yr_renovated = (log_yr_renovated-min(log_yr_renovated))/(max(log_yr_renovated)-min(log_yr_renovated))\n",
        "\n",
        "data_fin = pd.DataFrame([])\n",
        "# data_fin['sqft_living'] = scaled_sqft_living\n",
        "data_fin['sqft_living'] = cleaned_data['sqft_living']\n",
        "data_fin['price'] = scaled_price\n",
        "data_fin['yr_renovated'] = scaled_yr_renovated\n",
        "data_fin['yr_built'] = yr_built\n",
        "\n",
        "scaled_data = cleaned_data.drop(['sqft_living', 'price', 'yr_renovated', 'yr_built'], axis=1)\n",
        "# scaled_data = cleaned_data.drop('sqft_living', axis=1)\n",
        "scaled_data = pd.concat([scaled_data, data_fin], axis=1)\n",
        "\n",
        "scaled_data.head()\n",
        "\n"
      ],
      "outputs": [],
      "execution_count": null,
      "metadata": {
        "collapsed": false,
        "outputHidden": false,
        "inputHidden": false
      }
    },
    {
      "cell_type": "code",
      "source": [
        "zipcode = 98072\n",
        "data_per_zipcode = scaled_data.loc[scaled_data['zipcode'] == zipcode]\n",
        "# print(data_per_zipcode)\n",
        "\n",
        "cond_columns = hd.get_prefixed_column_names(cleaned_data, 'con_')\n",
        "grade_columns = hd.get_prefixed_column_names(cleaned_data, 'gra_')\n",
        "# floor_columns = hd.get_prefixed_column_names(cleaned_data, 'flo_')\n",
        "\n",
        "predictors = data_per_zipcode.drop(['price', 'zipcode', 'floors', 'yr_built', 'yr_renovated'] + grade_columns + cond_columns, axis=1)\n",
        "pred_sum = \"+\".join(predictors.columns)\n",
        "formula = \"price~\" + pred_sum\n"
      ],
      "outputs": [],
      "execution_count": null,
      "metadata": {
        "collapsed": false,
        "outputHidden": false,
        "inputHidden": false
      }
    },
    {
      "cell_type": "code",
      "source": [
        "model = ols(formula=formula, data=data_per_zipcode).fit()\n",
        "model.summary()\n",
        "\n"
      ],
      "outputs": [],
      "execution_count": null,
      "metadata": {
        "collapsed": false,
        "outputHidden": false,
        "inputHidden": false
      }
    },
    {
      "cell_type": "code",
      "source": [
        "result = hd.stepwise_selection(predictors, data_per_zipcode['price'], verbose=True)\n",
        "print('resulting features:')\n",
        "print(result)\n"
      ],
      "outputs": [],
      "execution_count": null,
      "metadata": {
        "collapsed": false,
        "outputHidden": false,
        "inputHidden": false
      }
    },
    {
      "cell_type": "code",
      "source": [
        "\n"
      ],
      "outputs": [],
      "execution_count": null,
      "metadata": {
        "collapsed": false,
        "outputHidden": false,
        "inputHidden": false
      }
    },
    {
      "cell_type": "code",
      "source": [
        "zipcode = 98199\n",
        "cat_variables = ['grade', 'condition']\n",
        "cleaned_data = hd.convert_categorical_variables(data, cat_variables, True)\n",
        "\n",
        "print(cleaned_data.head())\n",
        "cond_columns = hd.get_prefixed_column_names(cleaned_data, 'con_')\n",
        "grade_columns = hd.get_prefixed_column_names(cleaned_data, 'gra_')\n",
        "print(cond_columns)\n",
        "\n",
        "data_per_zipcode = cleaned_data.loc[cleaned_data['zipcode'] == zipcode]\n",
        "# print(data_per_zipcode)\n",
        "# predictors_columns = ['sqft_living', 'sqft_lot', 'sqft_living15'] + cat_variables\n",
        "predictors_columns = ['sqft_living', 'sqft_lot', 'sqft_living15'] + grade_columns, cond_columns\n",
        "predictors = data_per_zipcode[predictors_columns]\n",
        "\n",
        "print(predictors)\n",
        "pred_sum = \"+\".join(predictors.columns)\n",
        "formula = \"price~\" + pred_sum\n"
      ],
      "outputs": [],
      "execution_count": null,
      "metadata": {
        "collapsed": false,
        "outputHidden": false,
        "inputHidden": false
      }
    },
    {
      "cell_type": "code",
      "source": [
        "model = ols(formula=formula, data=data_per_zipcode).fit()\n",
        "model.summary()\n"
      ],
      "outputs": [],
      "execution_count": null,
      "metadata": {
        "collapsed": false,
        "outputHidden": false,
        "inputHidden": false
      }
    },
    {
      "cell_type": "code",
      "source": [
        "model.predict()\n",
        "# result = stepwise_selection(predictors, data_fin[\"mpg\"], verbose = True)\n",
        "# print('resulting features:')\n",
        "# print(result)\n"
      ],
      "outputs": [],
      "execution_count": null,
      "metadata": {
        "collapsed": false,
        "outputHidden": false,
        "inputHidden": false
      }
    },
    {
      "cell_type": "code",
      "source": [
        "#from sklearn.datasets import make_friedman1\n",
        "from sklearn.feature_selection import RFE\n",
        "from sklearn.linear_model import LinearRegression\n",
        "\n",
        "print(predictors.columns)\n",
        "linreg = LinearRegression()\n",
        "selector = RFE(linreg, n_features_to_select=2)\n",
        "selector = selector.fit(predictors, data_per_zipcode['price'])\n"
      ],
      "outputs": [],
      "execution_count": null,
      "metadata": {
        "collapsed": false,
        "outputHidden": false,
        "inputHidden": false
      }
    },
    {
      "cell_type": "code",
      "source": [
        "selector.support_\n"
      ],
      "outputs": [],
      "execution_count": null,
      "metadata": {
        "collapsed": false,
        "outputHidden": false,
        "inputHidden": false
      }
    },
    {
      "cell_type": "code",
      "source": [
        "selector.ranking_\n"
      ],
      "outputs": [],
      "execution_count": null,
      "metadata": {
        "collapsed": false,
        "outputHidden": false,
        "inputHidden": false
      }
    },
    {
      "cell_type": "code",
      "source": [
        "estimators = selector.estimator_\n",
        "print(estimators.coef_)\n",
        "print(estimators.intercept_)"
      ],
      "outputs": [],
      "execution_count": null,
      "metadata": {
        "collapsed": false,
        "outputHidden": false,
        "inputHidden": false
      }
    }
  ],
  "metadata": {
    "kernelspec": {
      "argv": [
        "/Users/francoisleralle/dev/anaconda/anaconda3/bin/python",
        "-m",
        "ipykernel_launcher",
        "-f",
        "{connection_file}"
      ],
      "display_name": "learn-env",
      "language": "python",
      "name": "learn-env"
    }
  },
  "nbformat": 4,
  "nbformat_minor": 0
}