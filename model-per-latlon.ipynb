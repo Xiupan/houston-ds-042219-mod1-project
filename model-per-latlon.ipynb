{
 "cells": [
  {
   "cell_type": "markdown",
   "metadata": {},
   "source": [
    "# Build model based on nearest properties\n"
   ]
  },
  {
   "cell_type": "code",
   "execution_count": null,
   "metadata": {
    "inputHidden": false,
    "outputHidden": false
   },
   "outputs": [],
   "source": [
    "import housing_data as hd\n",
    "import pandas as pd\n",
    "from statsmodels.formula.api import ols\n",
    "import numpy as np\n",
    "\n",
    "%load_ext autoreload\n",
    "%autoreload 2\n"
   ]
  },
  {
   "cell_type": "code",
   "execution_count": null,
   "metadata": {
    "inputHidden": false,
    "outputHidden": false
   },
   "outputs": [],
   "source": [
    "# Load dataset\n",
    "data = hd.load_housing_data(with_cat_columns=False)\n"
   ]
  },
  {
   "cell_type": "code",
   "execution_count": null,
   "metadata": {
    "inputHidden": false,
    "outputHidden": false
   },
   "outputs": [],
   "source": [
    "# Try to get Avg price per sqft base on nearest neighbors within radius (in km)\n",
    "property_ds = data.iloc[0]  # Selected property\n",
    "radius = 1  # 1km around selected property.\n",
    "\n",
    "# Retrieve nearest properties\n",
    "closet_properties_df = hd.get_closest_properties(data, property_ds, radius)\n",
    "\n",
    "# Calculate Avg price per sqft and compare it against global Avg price/sqft\n",
    "print('Average price/sqft_living : ', closet_properties_df['price'].mean()/closet_properties_df['sqft_living'].mean())\n",
    "print('Global Average price/sqft_living : ', data['price'].mean()/data['sqft_living'].mean())\n"
   ]
  },
  {
   "cell_type": "markdown",
   "metadata": {},
   "source": [
    "**Conclusion** : Now that we are able to calculate the Avg price around the\n",
    "property, we can generalise the calculus to the entire dataset.\n"
   ]
  },
  {
   "cell_type": "code",
   "execution_count": null,
   "metadata": {
    "inputHidden": false,
    "outputHidden": false
   },
   "outputs": [],
   "source": [
    "# Run the prediction on a smaller dataset as the process take ages\n",
    "# (~20mins depending on your machine).\n",
    "enriched_data = data.copy()\n",
    "sample_data = enriched_data[:1000]\n",
    "sample_data['price_sqft'] = hd.get_price_per_sqft_living(sample_data)\n",
    "sample_data.head()\n",
    "\n"
   ]
  },
  {
   "cell_type": "markdown",
   "metadata": {},
   "source": [
    "# Building the model\n",
    "We are now going to try to run a simple Regression against our dataset\n"
   ]
  },
  {
   "cell_type": "markdown",
   "metadata": {},
   "source": [
    "## Convert categorical variables"
   ]
  },
  {
   "cell_type": "code",
   "execution_count": null,
   "metadata": {
    "inputHidden": false,
    "outputHidden": false
   },
   "outputs": [],
   "source": [
    "# We are now going to try to run a simple Regression against our dataset\n",
    "cat_variables = ['grade', 'condition']\n",
    "cleaned_data = hd.convert_categorical_variables(sample_data, cat_variables, False)\n"
   ]
  },
  {
   "cell_type": "markdown",
   "metadata": {},
   "source": [
    "## Scale / Normalise variables\n"
   ]
  },
  {
   "cell_type": "code",
   "execution_count": null,
   "metadata": {
    "inputHidden": false,
    "outputHidden": false
   },
   "outputs": [],
   "source": [
    "# Scale Variables data\n",
    "log_sqft_living = np.log(cleaned_data['sqft_living'])\n",
    "log_price_sqft = np.log(cleaned_data['price_sqft'])\n",
    "\n",
    "# Scaling the variables\n",
    "scaled_sqft_living = (log_sqft_living-np.mean(log_sqft_living))/np.sqrt(np.var(log_sqft_living))\n",
    "scaled_price_sqft = (log_price_sqft-np.mean(log_price_sqft))/np.sqrt(np.var(log_price_sqft))\n",
    "\n",
    "data_fin = pd.DataFrame([])\n",
    "data_fin['sqft_living'] = scaled_sqft_living\n",
    "data_fin['price_sqft'] = scaled_price_sqft\n",
    "\n",
    "scaled_data = cleaned_data.drop(['sqft_living', 'price_sqft'], axis=1)\n",
    "scaled_data = pd.concat([scaled_data, data_fin], axis=1)\n",
    "\n",
    "scaled_data.head()\n",
    "\n"
   ]
  },
  {
   "cell_type": "code",
   "execution_count": null,
   "metadata": {
    "inputHidden": false,
    "outputHidden": false
   },
   "outputs": [],
   "source": [
    "# Build formula\n",
    "formula = 'price ~ sqft_living * price_sqft -1'\n"
   ]
  },
  {
   "cell_type": "code",
   "execution_count": null,
   "metadata": {
    "inputHidden": false,
    "outputHidden": false
   },
   "outputs": [],
   "source": [
    "# Run simple prediction\n",
    "model = ols(formula=formula, data=cleaned_data).fit()\n",
    "model.summary()"
   ]
  }
 ],
 "metadata": {
  "kernelspec": {
   "display_name": "learn-env",
   "language": "python",
   "name": "learn-env"
  },
  "language_info": {
   "codemirror_mode": {
    "name": "ipython",
    "version": 3
   },
   "file_extension": ".py",
   "mimetype": "text/x-python",
   "name": "python",
   "nbconvert_exporter": "python",
   "pygments_lexer": "ipython3",
   "version": "3.7.3"
  }
 },
 "nbformat": 4,
 "nbformat_minor": 1
}
