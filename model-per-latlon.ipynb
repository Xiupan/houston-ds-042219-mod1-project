{
  "cells": [
    {
      "cell_type": "markdown",
      "source": [
        "# Build model based on nearest properties that predict your property value\n",
        "\n",
        "It might be usefull to know your neighbourhood avg price in order to predic\n",
        "the value of the existing property. So the question is How does that work ?.\n",
        "\n",
        "Table of Contents\n",
        "1. [Getting our nearest properties](#Getting-our-nearest-properties)\n",
        "2. [Running nearest properties avg price/sqft against dataset](#Running-nearest-properties-avg-price-per-sqft-against-dataset)\n",
        "3. [Convert categorical variables](#Convert-categorical-variables)\n",
        "4. [Scale and normalise variables](#Scale-and-normalise-variables)\n",
        "5. [Building the model](#Building-the-model)\n",
        "6. [Conclusion](#Conclusion)\n"
      ],
      "metadata": {}
    },
    {
      "cell_type": "code",
      "source": [
        "import housing_data as hd\n",
        "import pandas as pd\n",
        "from statsmodels.formula.api import ols\n",
        "import numpy as np\n",
        "\n",
        "%load_ext autoreload\n",
        "%autoreload 2\n"
      ],
      "outputs": [],
      "execution_count": null,
      "metadata": {
        "collapsed": false,
        "outputHidden": false,
        "inputHidden": false
      }
    },
    {
      "cell_type": "markdown",
      "source": [
        "## Getting our nearest properties\n",
        "\n",
        "It might be usefull to know your neighbourhood avg price in order to predic\n",
        "the value of the existing property. For that we need to come up with an\n",
        "algorithm that retrieves those nearest properties.\n",
        "see housing_data module for more details.\n",
        "\n"
      ],
      "metadata": {}
    },
    {
      "cell_type": "code",
      "source": [
        "# Load dataset\n",
        "data = hd.load_housing_data(with_cat_columns=False)\n"
      ],
      "outputs": [],
      "execution_count": null,
      "metadata": {
        "collapsed": false,
        "outputHidden": false,
        "inputHidden": false
      }
    },
    {
      "cell_type": "code",
      "source": [
        "# Try to get Avg price per sqft base on nearest neighbors within radius (in km)\n",
        "property_ds = data.iloc[0]  # Selected property\n",
        "radius = 1  # 1 mile around selected property.\n",
        "\n",
        "# Retrieve nearest properties\n",
        "closet_properties_df = hd.get_closest_properties(data, property_ds, radius)\n",
        "\n",
        "# Calculate Avg price per sqft and compare it against global Avg price/sqft\n",
        "print('Average price/sqft_living : ', closet_properties_df['price'].mean()/closet_properties_df['sqft_living'].mean())\n",
        "print('Global Average price/sqft_living : ', data['price'].mean()/data['sqft_living'].mean())\n"
      ],
      "outputs": [],
      "execution_count": null,
      "metadata": {
        "collapsed": false,
        "outputHidden": false,
        "inputHidden": false
      }
    },
    {
      "cell_type": "markdown",
      "source": [
        "**Conclusion** : Now that we are able to calculate the Avg price around the\n",
        "property, we can generalise the calculus to the entire dataset.\n"
      ],
      "metadata": {}
    },
    {
      "cell_type": "code",
      "source": [
        "# ## Running nearest properties avg price per sqft against dataset\n",
        "# Run the prediction on a smaller dataset as the process take ages\n",
        "# (~20mins depending on your machine).\n",
        "enriched_data = data.copy()\n",
        "sample_data = enriched_data[:1000]\n"
      ],
      "outputs": [],
      "execution_count": null,
      "metadata": {
        "collapsed": false,
        "outputHidden": false,
        "inputHidden": false
      }
    },
    {
      "cell_type": "code",
      "source": [
        "# Enriched the data by adding the avg sqft price of neighbours\n",
        "sample_data['price_sqft'] = hd.get_price_per_sqft_living(sample_data)\n",
        "sample_data.head()\n",
        "\n"
      ],
      "outputs": [],
      "execution_count": null,
      "metadata": {
        "collapsed": false,
        "outputHidden": false,
        "inputHidden": false
      }
    },
    {
      "cell_type": "markdown",
      "source": [
        "## Convert categorical variables"
      ],
      "metadata": {}
    },
    {
      "cell_type": "code",
      "source": [
        "# We are now going to try to run a simple Regression against our dataset\n",
        "cat_variables = ['grade', 'condition']\n",
        "cleaned_data = hd.convert_categorical_variables(sample_data, cat_variables, False)\n"
      ],
      "outputs": [],
      "execution_count": null,
      "metadata": {
        "collapsed": false,
        "outputHidden": false,
        "inputHidden": false
      }
    },
    {
      "cell_type": "markdown",
      "source": [
        "## Scale and normalise variables\n"
      ],
      "metadata": {}
    },
    {
      "cell_type": "code",
      "source": [
        "# Plotting variables to see distribution and skewness\n",
        "x_cols = ['price', 'sqft_living', 'price_sqft']\n",
        "pd.plotting.scatter_matrix(cleaned_data[x_cols], figsize=(10,12));\n"
      ],
      "outputs": [],
      "execution_count": null,
      "metadata": {
        "collapsed": false,
        "outputHidden": false,
        "inputHidden": false
      }
    },
    {
      "cell_type": "markdown",
      "source": [
        "**Conclusion** : We can see that these variables are not normally distriburted\n",
        "Some log normalisation is needed in order to remove skewness.\n",
        "\n"
      ],
      "metadata": {}
    },
    {
      "cell_type": "code",
      "source": [
        "# Scale Variables data\n",
        "log_sqft_living = np.log(cleaned_data['sqft_living'])\n",
        "log_price_sqft = np.log(cleaned_data['price_sqft'])\n",
        "\n",
        "# Scaling the variables\n",
        "scaled_sqft_living = (log_sqft_living-min(log_sqft_living))/(max(log_sqft_living)-min(log_sqft_living))\n",
        "scaled_price_sqft = (log_price_sqft-min(log_price_sqft))/(max(log_price_sqft)-min(log_price_sqft))\n",
        "\n",
        "data_fin = pd.DataFrame([])\n",
        "data_fin['sqft_living'] = scaled_sqft_living\n",
        "data_fin['price_sqft'] = scaled_price_sqft\n",
        "\n",
        "scaled_data = cleaned_data.drop(['sqft_living', 'price_sqft'], axis=1)\n",
        "scaled_data = pd.concat([scaled_data, data_fin], axis=1)\n",
        "\n"
      ],
      "outputs": [],
      "execution_count": null,
      "metadata": {
        "collapsed": false,
        "outputHidden": false,
        "inputHidden": false
      }
    },
    {
      "cell_type": "markdown",
      "source": [
        "# Building the model\n",
        "We are now going to try to run a simple Regression against our dataset\n"
      ],
      "metadata": {}
    },
    {
      "cell_type": "code",
      "source": [
        "# Build formula\n",
        "# Notes that we are especting a corrolation between sqft_living and price_sqft\n",
        "formula = 'price ~ sqft_living * price_sqft -1'\n"
      ],
      "outputs": [],
      "execution_count": null,
      "metadata": {
        "collapsed": false,
        "outputHidden": false,
        "inputHidden": false
      }
    },
    {
      "cell_type": "code",
      "source": [
        "# Run simple prediction\n",
        "model = ols(formula=formula, data=scaled_data).fit()\n",
        "model.summary()\n"
      ],
      "outputs": [],
      "execution_count": null,
      "metadata": {
        "collapsed": false,
        "outputHidden": false,
        "inputHidden": false
      }
    },
    {
      "cell_type": "markdown",
      "source": [
        "**Observations** : The Adj. R-squared is pretty high and our variables coef\n",
        "p-values are low. This looks much better than the zipcode model.\n"
      ],
      "metadata": {}
    },
    {
      "cell_type": "markdown",
      "source": [
        "# Conclusion\n",
        "We saw that the model built based on lat/lon proximity is more accurate\n",
        "than the one based on zipcode. This might be true because of price variation\n",
        "within a specific zipcode.\n",
        "We are now going to try to run a simple Regression against our dataset"
      ],
      "metadata": {}
    }
  ],
  "metadata": {
    "kernelspec": {
      "argv": [
        "/Users/francoisleralle/dev/anaconda/anaconda3/bin/python",
        "-m",
        "ipykernel_launcher",
        "-f",
        "{connection_file}"
      ],
      "display_name": "learn-env",
      "language": "python",
      "name": "learn-env"
    }
  },
  "nbformat": 4,
  "nbformat_minor": 0
}